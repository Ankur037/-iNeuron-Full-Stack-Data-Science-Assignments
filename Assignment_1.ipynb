{
 "cells": [
  {
   "cell_type": "markdown",
   "id": "67eddda9",
   "metadata": {},
   "source": [
    "# Que-1: In the below elements which of them are values or an expression? eg:- values can be integer or string and expressions will be mathematical operators."
   ]
  },
  {
   "cell_type": "markdown",
   "id": "9df209c4",
   "metadata": {},
   "source": [
    "Ans: * - Expression\n",
    "    'hello'- Values\n",
    "    -87.8 - Values\n",
    "    -   - Expression\n",
    "    /   - Expression\n",
    "    +   - Expression\n",
    "    6   - Values"
   ]
  },
  {
   "cell_type": "markdown",
   "id": "e470c980",
   "metadata": {},
   "source": [
    "# Que-2: What is the difference between string and variable?"
   ]
  },
  {
   "cell_type": "raw",
   "id": "c426b914",
   "metadata": {},
   "source": [
    "Ans: 1) A variable is a store of information, and a String is a type of information you would store in a Variable.\n",
    "    Example: x = \"Welcome to Ineuron\"\n",
    "    Here, X- variable and we declare it as a string.\n",
    "    2) Strings is a data type for a sequence of characters(Ex- \"djeDLJG\".)\n",
    "    3) We cannot use space in between two words, but in string we can use.\n",
    "    4)A variable can hold a string but a string can't hold a variable.\n",
    "    "
   ]
  },
  {
   "cell_type": "markdown",
   "id": "49973c7e",
   "metadata": {},
   "source": [
    "# Que-3: Describe three different data type?"
   ]
  },
  {
   "cell_type": "raw",
   "id": "0e7ad996",
   "metadata": {},
   "source": [
    "Ans: Below is the different type of data type.\n",
    "    1)Text Type: str (ex- x = \"Hellow Ineuron\")\n",
    "    2)Numeric Type: Int, Float, complex.\n",
    "    3)Sequence Types: List, Tuple, Range.\n",
    "    4) Mapping Type: Dict.\n",
    "    5)Set Type: set, frozenset.\n",
    "    6) Boolean Type: Bool.\n",
    "    7) Binary Type: Bytes, Bytearray."
   ]
  },
  {
   "cell_type": "markdown",
   "id": "455f6041",
   "metadata": {},
   "source": [
    "# Que-4: What is an expression made up of? What do all expressions do?"
   ]
  },
  {
   "cell_type": "raw",
   "id": "79f81406",
   "metadata": {},
   "source": [
    "Ans: An expression is a combination of operators and operands that is interpreted to produce some other value. An expression is evaluated as per precedence of its operators.\n",
    "1) Constant Expression: have a constant value.\n",
    "Ex- x = 16 + 1.4\n",
    "    print(x)\n",
    "2) Arithmetic Expression: combination of numeric values, operators and sometime parenthesis.\n",
    "Ex- x+y, x-y, x*y, x/y.\n",
    "3) Integral Expression: produce only interger results after all computations and type conversions.\n",
    "Ex- a=13\n",
    "    b=12.0\n",
    "    c=a+ int(b)\n",
    "    print(c)"
   ]
  },
  {
   "cell_type": "markdown",
   "id": "0ee7d6ac",
   "metadata": {},
   "source": [
    "# Que-5:This assignment statements, like spam = 10. What is the difference between an expression and a statement?"
   ]
  },
  {
   "cell_type": "raw",
   "id": "228860b9",
   "metadata": {},
   "source": [
    "Ans:\n",
    "Statements: \n",
    "A statement performs some action.\n",
    "Ex- print(\"Hello World\")\n",
    "\n",
    "sleep(1000)\n",
    "\n",
    "return 55\n",
    "\n",
    "if (done) exit()\n",
    "\n",
    "throw SomeError().\n",
    "\n",
    "An expression can be part of a statement:\n",
    "\n",
    "while (x < 5)\n",
    "    x += 15\n",
    "\n",
    "print(\"i: \" + i).\n",
    "\n",
    "Expressions:\n",
    "\n",
    "An expression evaluates to some value.\n",
    "\n",
    "Ex- \n",
    "\"Hello World\"\n",
    "\n",
    "1000\n",
    "\n",
    "5 + 3\n",
    "\n",
    "a * 5 > b\n",
    "\n",
    "x_flag & mask.\n",
    "\n",
    "A statement is never part of an expression.\n"
   ]
  },
  {
   "cell_type": "markdown",
   "id": "9c32c8f5",
   "metadata": {},
   "source": [
    "# Que-6. After running the following code, what does the variable bacon contain?"
   ]
  },
  {
   "cell_type": "code",
   "execution_count": 4,
   "id": "80c9681a",
   "metadata": {},
   "outputs": [],
   "source": [
    "bacon = 22"
   ]
  },
  {
   "cell_type": "code",
   "execution_count": 5,
   "id": "50a442df",
   "metadata": {},
   "outputs": [
    {
     "data": {
      "text/plain": [
       "23"
      ]
     },
     "execution_count": 5,
     "metadata": {},
     "output_type": "execute_result"
    }
   ],
   "source": [
    "bacon+1"
   ]
  },
  {
   "cell_type": "markdown",
   "id": "4d6c33cc",
   "metadata": {},
   "source": [
    "# Que-7. What should the values of the following two terms be?"
   ]
  },
  {
   "cell_type": "code",
   "execution_count": 6,
   "id": "5148b204",
   "metadata": {},
   "outputs": [
    {
     "data": {
      "text/plain": [
       "'spamspamspam'"
      ]
     },
     "execution_count": 6,
     "metadata": {},
     "output_type": "execute_result"
    }
   ],
   "source": [
    "'spam'+'spamspam'"
   ]
  },
  {
   "cell_type": "code",
   "execution_count": 7,
   "id": "963230ec",
   "metadata": {},
   "outputs": [
    {
     "data": {
      "text/plain": [
       "'spamspamspam'"
      ]
     },
     "execution_count": 7,
     "metadata": {},
     "output_type": "execute_result"
    }
   ],
   "source": [
    "'spam'*3"
   ]
  },
  {
   "cell_type": "markdown",
   "id": "8a1c0301",
   "metadata": {},
   "source": [
    "# Que-8.Why is eggs a valid variable name while 100 is invalid?"
   ]
  },
  {
   "cell_type": "raw",
   "id": "14b10d20",
   "metadata": {},
   "source": [
    "Ans- A variable name must start with letter or the underscore character.(eggs- correct)\n",
    "     A Variable name can't start be with a number.(100- wrong).\n",
    "     A variable name can only contain alpha-numeric character & underscores.\n",
    "     A variable name are case sensitive."
   ]
  },
  {
   "cell_type": "markdown",
   "id": "b6c26a1a",
   "metadata": {},
   "source": [
    "# Que-9. What three functions can be used to get the integer, floating-point number, or string version of a value?"
   ]
  },
  {
   "cell_type": "raw",
   "id": "d78b69e6",
   "metadata": {},
   "source": [
    "str(), int(), float()."
   ]
  },
  {
   "cell_type": "markdown",
   "id": "3f699a77",
   "metadata": {},
   "source": [
    "# Que-10. Why does this expression cause an error? How can you fix it?"
   ]
  },
  {
   "cell_type": "code",
   "execution_count": 8,
   "id": "368fe2e3",
   "metadata": {},
   "outputs": [
    {
     "ename": "TypeError",
     "evalue": "can only concatenate str (not \"int\") to str",
     "output_type": "error",
     "traceback": [
      "\u001b[1;31m---------------------------------------------------------------------------\u001b[0m",
      "\u001b[1;31mTypeError\u001b[0m                                 Traceback (most recent call last)",
      "\u001b[1;32m~\\AppData\\Local\\Temp/ipykernel_11068/2740380734.py\u001b[0m in \u001b[0;36m<module>\u001b[1;34m\u001b[0m\n\u001b[1;32m----> 1\u001b[1;33m \u001b[1;34m'I have eaten'\u001b[0m\u001b[1;33m+\u001b[0m \u001b[1;36m99\u001b[0m \u001b[1;33m+\u001b[0m\u001b[1;34m'burritos.'\u001b[0m\u001b[1;33m\u001b[0m\u001b[1;33m\u001b[0m\u001b[0m\n\u001b[0m",
      "\u001b[1;31mTypeError\u001b[0m: can only concatenate str (not \"int\") to str"
     ]
    }
   ],
   "source": [
    "'I have eaten'+ 99 +'burritos.'"
   ]
  },
  {
   "cell_type": "code",
   "execution_count": 10,
   "id": "0b848ae3",
   "metadata": {},
   "outputs": [
    {
     "data": {
      "text/plain": [
       "'I have eaten99burritos.'"
      ]
     },
     "execution_count": 10,
     "metadata": {},
     "output_type": "execute_result"
    }
   ],
   "source": [
    "'I have eaten'+  str(99)  +'burritos.' # Need to typecasting."
   ]
  },
  {
   "cell_type": "code",
   "execution_count": null,
   "id": "f1a0e268",
   "metadata": {},
   "outputs": [],
   "source": []
  }
 ],
 "metadata": {
  "kernelspec": {
   "display_name": "Python 3 (ipykernel)",
   "language": "python",
   "name": "python3"
  },
  "language_info": {
   "codemirror_mode": {
    "name": "ipython",
    "version": 3
   },
   "file_extension": ".py",
   "mimetype": "text/x-python",
   "name": "python",
   "nbconvert_exporter": "python",
   "pygments_lexer": "ipython3",
   "version": "3.9.7"
  }
 },
 "nbformat": 4,
 "nbformat_minor": 5
}
