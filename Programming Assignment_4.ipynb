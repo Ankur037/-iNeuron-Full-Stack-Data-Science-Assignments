{
 "cells": [
  {
   "cell_type": "markdown",
   "id": "fb42ea52",
   "metadata": {},
   "source": [
    "# Write a Python Program to Find the Factorial of a Number?"
   ]
  },
  {
   "cell_type": "code",
   "execution_count": 5,
   "id": "2ee1f65b",
   "metadata": {},
   "outputs": [
    {
     "name": "stdout",
     "output_type": "stream",
     "text": [
      "Enter the Number: 7\n",
      "Factorial of 7 is 5040\n"
     ]
    }
   ],
   "source": [
    "n = int(input(\"Enter the Number: \"))\n",
    "fact= 1\n",
    "if n<0:\n",
    "    print(\"Can't calculate factorial of negetive number\")\n",
    "elif n==0:\n",
    "    print(\"Factorial of 0 is 1.\")\n",
    "else:\n",
    "    for i in range(1,n+1):\n",
    "        fact = fact * i\n",
    "print(\"Factorial of {} is {}\".format(n, fact))"
   ]
  },
  {
   "cell_type": "markdown",
   "id": "e84cb5f8",
   "metadata": {},
   "source": [
    "# Write a Python Program to Display the multiplication Table?"
   ]
  },
  {
   "cell_type": "code",
   "execution_count": 10,
   "id": "fc4d2379",
   "metadata": {},
   "outputs": [
    {
     "name": "stdout",
     "output_type": "stream",
     "text": [
      "Enter a Number to diaply its multiplication table : 5\n",
      "\n",
      "Multiplication table for number 5\n",
      "\n",
      "5 X 1 = 5\n",
      "5 X 2 = 10\n",
      "5 X 3 = 15\n",
      "5 X 4 = 20\n",
      "5 X 5 = 25\n",
      "5 X 6 = 30\n",
      "5 X 7 = 35\n",
      "5 X 8 = 40\n",
      "5 X 9 = 45\n",
      "5 X 10 = 50\n"
     ]
    }
   ],
   "source": [
    "num = int(input(\"Enter a Number to diaply its multiplication table : \"))\n",
    "\n",
    "print(\"\\nMultiplication table for number {}\\n\".format(num))\n",
    "for i in range(1,11):\n",
    "    print(\"{} X {} = {}\".format(num,i,i*num))"
   ]
  },
  {
   "cell_type": "markdown",
   "id": "9a92b994",
   "metadata": {},
   "source": [
    "# Write a Python Program to Print the Fibonacci sequence?"
   ]
  },
  {
   "cell_type": "code",
   "execution_count": 2,
   "id": "6890ede3",
   "metadata": {},
   "outputs": [
    {
     "name": "stdout",
     "output_type": "stream",
     "text": [
      "Enter the value of n:5\n",
      "Febonacci Series upto 5 :\n",
      "0  \n",
      "1  \n",
      "1  \n",
      "2  \n",
      "3  \n",
      "5  \n"
     ]
    }
   ],
   "source": [
    "n = int(input(\"Enter the value of n:\"))\n",
    "f1 = 0\n",
    "f2 = 1\n",
    "count = 0\n",
    "\n",
    "if n<=0:\n",
    "    print(\"Please enter a positive number.\")\n",
    "elif n == 1:\n",
    "    print(\"Febonacci Series upto\", n ,\":\")\n",
    "    print(f1)\n",
    "else:\n",
    "    print(\"Febonacci Series upto\", n, \":\")\n",
    "    while count<=n:\n",
    "        print(f1, \" \")\n",
    "        fth = f2 +f1\n",
    "        f1, f2 = f2, fth\n",
    "        count+=1"
   ]
  },
  {
   "cell_type": "markdown",
   "id": "c31df440",
   "metadata": {},
   "source": [
    "# Write a Python Program to Check Armstrong Number?"
   ]
  },
  {
   "cell_type": "code",
   "execution_count": 13,
   "id": "0b04d2ba",
   "metadata": {},
   "outputs": [
    {
     "name": "stdout",
     "output_type": "stream",
     "text": [
      "Enter the number : 153\n",
      "Number is armstrong number\n"
     ]
    }
   ],
   "source": [
    "\"\"\"153 = length = 3\n",
    "   - 1*1*1 = 1\n",
    "   - 5*5*5 = 125\n",
    "   - 3*3*3 = 27\n",
    "   sum = 1 + 125 + 27 = 153\n",
    "   num = sum\"\"\"\n",
    "\n",
    "num = int(input(\"Enter the number : \"))\n",
    "\n",
    "power = len(str(num))\n",
    "\n",
    "temp = num\n",
    "sum = 0\n",
    "while temp > 0:\n",
    "    digit = temp % 10\n",
    "    sum = sum + digit ** power\n",
    "    temp = temp//10\n",
    "if num == sum :\n",
    "    print(\"Number is armstrong number\")\n",
    "else:\n",
    "    print(\"Not an armstrong number\")"
   ]
  },
  {
   "cell_type": "markdown",
   "id": "c37c2931",
   "metadata": {},
   "source": [
    "# Write a Python Program to Find Armstrong Number in an Interval?"
   ]
  },
  {
   "cell_type": "code",
   "execution_count": 20,
   "id": "ddd7536f",
   "metadata": {},
   "outputs": [
    {
     "name": "stdout",
     "output_type": "stream",
     "text": [
      "Lower limit : 1\n",
      "Upper limit : 1000\n",
      "1\n",
      "2\n",
      "3\n",
      "4\n",
      "5\n",
      "6\n",
      "7\n",
      "8\n",
      "9\n",
      "153\n",
      "370\n",
      "371\n",
      "407\n"
     ]
    }
   ],
   "source": [
    "low = int(input(\"Lower limit : \"))\n",
    "up = int(input(\"Upper limit : \"))\n",
    "\n",
    "\n",
    "for num in range(low,up+1):\n",
    "    power = len(str(num))\n",
    "    temp = num\n",
    "    sum = 0\n",
    "    while temp > 0:\n",
    "        digit = temp % 10\n",
    "        sum = sum + digit ** power\n",
    "        temp = temp//10\n",
    "    if num == sum :\n",
    "        print(num)"
   ]
  },
  {
   "cell_type": "markdown",
   "id": "7750eb7b",
   "metadata": {},
   "source": [
    "# Write a Python Program to Find the Sum of Natural Numbers?"
   ]
  },
  {
   "cell_type": "code",
   "execution_count": 29,
   "id": "5fc915b9",
   "metadata": {},
   "outputs": [
    {
     "name": "stdout",
     "output_type": "stream",
     "text": [
      "Enter the value of num:5\n",
      "Sum of Natural Numbers: 15\n"
     ]
    }
   ],
   "source": [
    "num = int(input(\"Enter the value of num:\"))\n",
    "sum = 0\n",
    "\n",
    "for i in range(1, num+1):\n",
    "    sum = sum + i\n",
    "    i+=1\n",
    "print(\"Sum of Natural Numbers:\", sum)"
   ]
  },
  {
   "cell_type": "code",
   "execution_count": null,
   "id": "4d132502",
   "metadata": {},
   "outputs": [],
   "source": []
  }
 ],
 "metadata": {
  "kernelspec": {
   "display_name": "Python 3 (ipykernel)",
   "language": "python",
   "name": "python3"
  },
  "language_info": {
   "codemirror_mode": {
    "name": "ipython",
    "version": 3
   },
   "file_extension": ".py",
   "mimetype": "text/x-python",
   "name": "python",
   "nbconvert_exporter": "python",
   "pygments_lexer": "ipython3",
   "version": "3.9.7"
  }
 },
 "nbformat": 4,
 "nbformat_minor": 5
}
