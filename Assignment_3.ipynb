{
 "cells": [
  {
   "cell_type": "markdown",
   "id": "0dbdca0b",
   "metadata": {},
   "source": [
    "# 1. Why are functions advantageous to have in your programs?"
   ]
  },
  {
   "cell_type": "raw",
   "id": "877513e1",
   "metadata": {},
   "source": [
    "Ans: The advantages of using functions are:\n",
    "    Avoid repetition of codes.\n",
    "    Increases program readability and modularity\n",
    "    Divide a complex problem into simpler ones.\n",
    "    Reduces chances of error.\n",
    "    Modifying a program becomes easier by using function."
   ]
  },
  {
   "cell_type": "markdown",
   "id": "295546a7",
   "metadata": {},
   "source": [
    "# 2. When does the code in a function execute: when the function is defined or when the function is called?"
   ]
  },
  {
   "cell_type": "raw",
   "id": "ceca914b",
   "metadata": {},
   "source": [
    "Ans: The code in a function executes when the function is called, not when the function is defined."
   ]
  },
  {
   "cell_type": "markdown",
   "id": "50c981b4",
   "metadata": {},
   "source": [
    "# 3. What statement creates a function?"
   ]
  },
  {
   "cell_type": "raw",
   "id": "d3e7e0b7",
   "metadata": {},
   "source": [
    "Ans:\n",
    "    The def functionName() createes a function."
   ]
  },
  {
   "cell_type": "markdown",
   "id": "13a9cce0",
   "metadata": {},
   "source": [
    "# 4. What is the difference between a function and a function call?"
   ]
  },
  {
   "cell_type": "raw",
   "id": "08aeab65",
   "metadata": {},
   "source": [
    "Ans:\n",
    "    A function : is a block of code that does a particular operation and returns a result. It usually accepts inputs as \n",
    "parameters and returns a result. The parameters are not mandatory. \n",
    "A Function call : is the code used to pass control to a function."
   ]
  },
  {
   "cell_type": "markdown",
   "id": "6494949e",
   "metadata": {},
   "source": [
    "# 5. How many global scopes are there in a Python program? How many local scopes?"
   ]
  },
  {
   "cell_type": "raw",
   "id": "aa5198d0",
   "metadata": {},
   "source": [
    "Ans:\n",
    "    There is one global scope, and a local scope is created whenever a function is called."
   ]
  },
  {
   "cell_type": "markdown",
   "id": "f5ab8c6b",
   "metadata": {},
   "source": [
    "# 6. What happens to variables in a local scope when the function call returns?"
   ]
  },
  {
   "cell_type": "raw",
   "id": "dc331539",
   "metadata": {},
   "source": [
    "When a function returns, the local scope is destroyed, and all the variables in it are forgotten. we will not be able to access the out side the function."
   ]
  },
  {
   "cell_type": "markdown",
   "id": "eae1abe2",
   "metadata": {},
   "source": [
    "# 7. What is the concept of a return value? Is it possible to have a return value in an expression?"
   ]
  },
  {
   "cell_type": "raw",
   "id": "e06d21f5",
   "metadata": {},
   "source": [
    "Ans:A return value is the value that a function call evaluates to. A return value can be used as part of an expression, Like any value."
   ]
  },
  {
   "cell_type": "markdown",
   "id": "f597ed3b",
   "metadata": {},
   "source": [
    "# 8. If a function does not have a return statement, what is the return value of a call to that function?"
   ]
  },
  {
   "cell_type": "raw",
   "id": "997878d1",
   "metadata": {},
   "source": [
    "Ans:\n",
    "    If there is no return statement for a function, its return value is None."
   ]
  },
  {
   "cell_type": "markdown",
   "id": "659502f2",
   "metadata": {},
   "source": [
    "# 9. How do you make a function variable refer to the global variable?"
   ]
  },
  {
   "cell_type": "raw",
   "id": "abf5e0dc",
   "metadata": {},
   "source": [
    "Ans:\n",
    "    By representing a variable by global keywaord in the body of a function Example : global a"
   ]
  },
  {
   "cell_type": "markdown",
   "id": "e4d0ae38",
   "metadata": {},
   "source": [
    "# 10. What is the data type of None?"
   ]
  },
  {
   "cell_type": "raw",
   "id": "2a5799fb",
   "metadata": {},
   "source": [
    "Ans: The data type of none is NoneType."
   ]
  },
  {
   "cell_type": "markdown",
   "id": "051fb229",
   "metadata": {},
   "source": [
    "# 11. What does the sentence import areallyourpetsnamederic do?"
   ]
  },
  {
   "cell_type": "raw",
   "id": "84592655",
   "metadata": {},
   "source": [
    "Ans:\n",
    "    areallyourpetsnamederic ia not a python module. Importing this module will throughs ModuleNotFoundError exception."
   ]
  },
  {
   "cell_type": "code",
   "execution_count": 3,
   "id": "524b4c5d",
   "metadata": {},
   "outputs": [
    {
     "ename": "ModuleNotFoundError",
     "evalue": "No module named 'areallyourpetsnamederic'",
     "output_type": "error",
     "traceback": [
      "\u001b[1;31m---------------------------------------------------------------------------\u001b[0m",
      "\u001b[1;31mModuleNotFoundError\u001b[0m                       Traceback (most recent call last)",
      "\u001b[1;32m~\\AppData\\Local\\Temp/ipykernel_25652/51184242.py\u001b[0m in \u001b[0;36m<module>\u001b[1;34m\u001b[0m\n\u001b[1;32m----> 1\u001b[1;33m \u001b[1;32mimport\u001b[0m \u001b[0mareallyourpetsnamederic\u001b[0m\u001b[1;33m\u001b[0m\u001b[1;33m\u001b[0m\u001b[0m\n\u001b[0m",
      "\u001b[1;31mModuleNotFoundError\u001b[0m: No module named 'areallyourpetsnamederic'"
     ]
    }
   ],
   "source": [
    "import areallyourpetsnamederic"
   ]
  },
  {
   "cell_type": "markdown",
   "id": "dc08c71f",
   "metadata": {},
   "source": [
    "# 12. If you had a bacon() feature in a spam module, what would you call it after importing spam?"
   ]
  },
  {
   "cell_type": "raw",
   "id": "8dc28e6b",
   "metadata": {},
   "source": [
    "Ans: \n",
    "    This function can be called with spam.bacon(). like below\n",
    "    import spam\n",
    "    spam.bacon()"
   ]
  },
  {
   "cell_type": "markdown",
   "id": "497e93cf",
   "metadata": {},
   "source": [
    "# 13. What can you do to save a programme from crashing if it encounters an error?"
   ]
  },
  {
   "cell_type": "raw",
   "id": "adaab796",
   "metadata": {},
   "source": [
    "Ans:\n",
    "    we can write lines of code in try block. This will not crash the programme. And in except block we can catch the \n",
    "exception."
   ]
  },
  {
   "cell_type": "markdown",
   "id": "c8550092",
   "metadata": {},
   "source": [
    "# 14. What is the purpose of the try clause? What is the purpose of the except clause?"
   ]
  },
  {
   "cell_type": "raw",
   "id": "36a1573e",
   "metadata": {},
   "source": [
    "Ans:\n",
    "    Try : The code that could potentially cause an error goes in the try clause.\n",
    "except : The code that executes if an error happens goes in the except clause, like print statments about exceptions,\n",
    "loggin statements."
   ]
  },
  {
   "cell_type": "code",
   "execution_count": null,
   "id": "4685c58c",
   "metadata": {},
   "outputs": [],
   "source": []
  },
  {
   "cell_type": "code",
   "execution_count": null,
   "id": "9f2f8f3e",
   "metadata": {},
   "outputs": [],
   "source": []
  }
 ],
 "metadata": {
  "kernelspec": {
   "display_name": "Python 3 (ipykernel)",
   "language": "python",
   "name": "python3"
  },
  "language_info": {
   "codemirror_mode": {
    "name": "ipython",
    "version": 3
   },
   "file_extension": ".py",
   "mimetype": "text/x-python",
   "name": "python",
   "nbconvert_exporter": "python",
   "pygments_lexer": "ipython3",
   "version": "3.9.7"
  }
 },
 "nbformat": 4,
 "nbformat_minor": 5
}
