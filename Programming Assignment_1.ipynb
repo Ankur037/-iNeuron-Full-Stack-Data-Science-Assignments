{
 "cells": [
  {
   "cell_type": "markdown",
   "id": "d7ce83e0",
   "metadata": {},
   "source": [
    "# 1. Write a Python program to print \"Hello Python\"?"
   ]
  },
  {
   "cell_type": "code",
   "execution_count": 1,
   "id": "1d6c9999",
   "metadata": {},
   "outputs": [
    {
     "name": "stdout",
     "output_type": "stream",
     "text": [
      "Hello Python\n"
     ]
    }
   ],
   "source": [
    "print(\"Hello Python\")"
   ]
  },
  {
   "cell_type": "markdown",
   "id": "c966e5dc",
   "metadata": {},
   "source": [
    "# 2.Write a Python program to do arithmetic operations addition and division ?"
   ]
  },
  {
   "cell_type": "code",
   "execution_count": null,
   "id": "7217dd10",
   "metadata": {},
   "outputs": [
    {
     "name": "stdout",
     "output_type": "stream",
     "text": [
      "Select a Arithmetic Operation:         \n",
      "1.Addition(+)        \n",
      "2.Division(-)        \n",
      "2.Multiplication(*)        \n",
      "4.Division(/)        \n",
      "3.Stop(0)\n",
      "\n",
      "Enter a arithmetic operation -> Addition\n",
      "Please enter a valid operator\n",
      "Enter a arithmetic operation -> +\n",
      "\n",
      "Enter 1st Number: 45\n",
      "Enter 2nd Number: 64\n",
      "45+64=109\n",
      "\n",
      "Enter a arithmetic operation -> -\n",
      "\n",
      "Enter 1st Number: 65\n",
      "Enter 2nd Number: 24\n",
      "65-24=41\n",
      "\n"
     ]
    }
   ],
   "source": [
    "import operator\n",
    "\n",
    "ops = { \"+\": operator.add, \"-\": operator.sub, \"*\":operator.mul, \"/\":operator.truediv } \n",
    "\n",
    "print('Select a Arithmetic Operation: \\\n",
    "        \\n1.Addition(+)\\\n",
    "        \\n2.Division(-)\\\n",
    "        \\n2.Multiplication(*)\\\n",
    "        \\n4.Division(/)\\\n",
    "        \\n3.Stop(0)\\n')\n",
    "   \n",
    "\n",
    "while True:\n",
    "    operator = input('Enter a arithmetic operation -> ')\n",
    "    if operator == '0':\n",
    "        print(\"Program Stopped successfully\")\n",
    "        break\n",
    "    elif operator not in ['+','-','*','/']:\n",
    "        print(\"Please enter a valid operator\")\n",
    "    else:\n",
    "        num_1 = int(input('\\nEnter 1st Number: '))\n",
    "        num_2 = int(input('Enter 2nd Number: '))\n",
    "        print('{}{}{}={}\\n'.format(num_1, operator, num_2, ops[operator](num_1,num_2)))"
   ]
  },
  {
   "cell_type": "markdown",
   "id": "0b565be4",
   "metadata": {},
   "source": [
    "# 3.Write a Python program to find the area of a triangle ?"
   ]
  },
  {
   "cell_type": "code",
   "execution_count": 1,
   "id": "451e33e7",
   "metadata": {},
   "outputs": [
    {
     "name": "stdout",
     "output_type": "stream",
     "text": [
      "Enter height of triangle: 10\n",
      "Enter base of triangle: 15\n",
      "\n",
      "Area of triangle -> 75.0\n"
     ]
    }
   ],
   "source": [
    "height = int(input('Enter height of triangle: '))\n",
    "base = int(input('Enter base of triangle: '))\n",
    "\n",
    "def areaOfTriangle(height, base):\n",
    "    print('\\nArea of triangle ->', 0.5*height*base)\n",
    "\n",
    "areaOfTriangle(height,base)"
   ]
  },
  {
   "cell_type": "markdown",
   "id": "a75482a0",
   "metadata": {},
   "source": [
    "\n",
    "# 4.Write a Python program to swap two variables ?"
   ]
  },
  {
   "cell_type": "code",
   "execution_count": 1,
   "id": "51cf921e",
   "metadata": {},
   "outputs": [
    {
     "name": "stdout",
     "output_type": "stream",
     "text": [
      "Enter First Number: 45\n",
      "Enter Second Number: 24\n",
      "Before swapping ->  45 24\n",
      "After swapping ->  24 45\n"
     ]
    }
   ],
   "source": [
    "num1 = int(input(\"Enter First Number: \"))\n",
    "num2 = int(input(\"Enter Second Number: \"))\n",
    "\n",
    "def swapNumbers(a,b):\n",
    "    temp = a\n",
    "    a = b\n",
    "    b = temp\n",
    "    return a,b\n",
    "\n",
    "print('Before swapping -> ',num1, num2)\n",
    "num1, num2 = swapNumbers(num1, num2)\n",
    "print('After swapping -> ',num1,num2)"
   ]
  },
  {
   "cell_type": "markdown",
   "id": "df43ff52",
   "metadata": {},
   "source": [
    "# 5.Write a Python program to generate a random number ?"
   ]
  },
  {
   "cell_type": "code",
   "execution_count": 3,
   "id": "5719d176",
   "metadata": {},
   "outputs": [
    {
     "name": "stdout",
     "output_type": "stream",
     "text": [
      "Random number ->  29834\n",
      "Random number ->  36\n"
     ]
    }
   ],
   "source": [
    "from random import randint\n",
    "\n",
    "def generateRandomNumber(start=0, end=100000):\n",
    "    print('Random number -> ',randint(start,end))\n",
    "\n",
    "# Generating random numbers without arguments    \n",
    "generateRandomNumber()\n",
    "\n",
    "# Generating random numbers with arguments    \n",
    "generateRandomNumber(0,100)"
   ]
  },
  {
   "cell_type": "code",
   "execution_count": null,
   "id": "66111d79",
   "metadata": {},
   "outputs": [],
   "source": []
  }
 ],
 "metadata": {
  "kernelspec": {
   "display_name": "Python 3 (ipykernel)",
   "language": "python",
   "name": "python3"
  },
  "language_info": {
   "codemirror_mode": {
    "name": "ipython",
    "version": 3
   },
   "file_extension": ".py",
   "mimetype": "text/x-python",
   "name": "python",
   "nbconvert_exporter": "python",
   "pygments_lexer": "ipython3",
   "version": "3.9.7"
  }
 },
 "nbformat": 4,
 "nbformat_minor": 5
}
