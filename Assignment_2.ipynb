{
 "cells": [
  {
   "cell_type": "markdown",
   "id": "91211f25",
   "metadata": {},
   "source": [
    "# PythonAssignment_2"
   ]
  },
  {
   "cell_type": "markdown",
   "id": "ed2c1047",
   "metadata": {},
   "source": [
    "# 1.What are the two values of the Boolean data type? How do you write them?"
   ]
  },
  {
   "cell_type": "raw",
   "id": "007877f6",
   "metadata": {},
   "source": [
    "Ans: The two boolean types in python are True and False\n",
    "- They are written as \n",
    "- boolA =True\n",
    "- boolB = False"
   ]
  },
  {
   "cell_type": "markdown",
   "id": "77f0a479",
   "metadata": {},
   "source": [
    "# 2. What are the three different types of Boolean operators?"
   ]
  },
  {
   "cell_type": "raw",
   "id": "7daabbf1",
   "metadata": {},
   "source": [
    "Ans:There are mainly three types of logical operators in python : logical AND, logical OR and logical NOT."
   ]
  },
  {
   "cell_type": "markdown",
   "id": "6be24742",
   "metadata": {},
   "source": [
    "# 3. Make a list of each Boolean operator's truth tables (i.e. every possible combination of Boolean values for the operator and what it evaluate )."
   ]
  },
  {
   "cell_type": "code",
   "execution_count": 2,
   "id": "e9d12401",
   "metadata": {},
   "outputs": [
    {
     "name": "stdout",
     "output_type": "stream",
     "text": [
      "\n",
      "The AND operator truth table\n",
      " A  B AandB\n",
      "[0, 0, 0]\n",
      "[0, 1, 0]\n",
      "[1, 1, 1]\n",
      "\n",
      "The OR operator truth table\n",
      " A  B AorB\n",
      "[0, 0, 0]\n",
      "[0, 1, 1]\n",
      "[1, 1, 1]\n",
      "\n",
      "The NOT operator truth table\n",
      " A notA\n",
      "[0, 1]\n",
      "[1, 0]\n"
     ]
    }
   ],
   "source": [
    "Table1= [[0, 0 ,0],[0,1,0],[1,1,1]]\n",
    "\n",
    "print(\"\\nThe AND operator truth table\")\n",
    "print(\" A  B AandB\")\n",
    "for i in Table1:\n",
    "    print(i)\n",
    "    \n",
    "Table2 = [[0, 0 ,0],[0,1,1],[1,1,1]]\n",
    "\n",
    "print(\"\\nThe OR operator truth table\")\n",
    "print(\" A  B AorB\")\n",
    "for i in Table2:\n",
    "    print(i)\n",
    "    \n",
    "Table3= [[0, 1],[1,0]]\n",
    "\n",
    "print(\"\\nThe NOT operator truth table\")\n",
    "print(\" A notA\")\n",
    "for i in Table3:\n",
    "    print(i)"
   ]
  },
  {
   "cell_type": "markdown",
   "id": "a4ec8d25",
   "metadata": {},
   "source": [
    "# 4. What are the values of the following expressions?\n",
    "    - (5 > 4) and (3 == 5) \n",
    "    - not (5 > 4)\n",
    "    - (5 > 4) or (3 == 5)\n",
    "    - not ((5 > 4) or (3 == 5))\n",
    "    - (True and True) and (True == False)\n",
    "    - (not False) or (not True)"
   ]
  },
  {
   "cell_type": "raw",
   "id": "e758d8e5",
   "metadata": {},
   "source": [
    "Ans: - (5 > 4) and (3 == 5)  - > True and False = False\n",
    "- not (5 > 4) -> not(True) = False\n",
    "- (5 > 4) or (3 == 5) -> True or False = True\n",
    "- not ((5 > 4) or (3 == 5)) -> not(True) - >False\n",
    "- (True and True) and (True == False) - > (True) and (False) = False\n",
    "- (not False) or (not True) -> True or False = True"
   ]
  },
  {
   "cell_type": "code",
   "execution_count": 4,
   "id": "8c23ecd6",
   "metadata": {},
   "outputs": [
    {
     "data": {
      "text/plain": [
       "False"
      ]
     },
     "execution_count": 4,
     "metadata": {},
     "output_type": "execute_result"
    }
   ],
   "source": [
    "(5 > 4) and (3 == 5)"
   ]
  },
  {
   "cell_type": "code",
   "execution_count": 5,
   "id": "4b22fd5d",
   "metadata": {},
   "outputs": [
    {
     "data": {
      "text/plain": [
       "False"
      ]
     },
     "execution_count": 5,
     "metadata": {},
     "output_type": "execute_result"
    }
   ],
   "source": [
    "not(5>4)"
   ]
  },
  {
   "cell_type": "code",
   "execution_count": 6,
   "id": "ff46d1f5",
   "metadata": {},
   "outputs": [
    {
     "data": {
      "text/plain": [
       "True"
      ]
     },
     "execution_count": 6,
     "metadata": {},
     "output_type": "execute_result"
    }
   ],
   "source": [
    "(5>4) or (3 == 5)"
   ]
  },
  {
   "cell_type": "code",
   "execution_count": 7,
   "id": "34390892",
   "metadata": {},
   "outputs": [
    {
     "data": {
      "text/plain": [
       "False"
      ]
     },
     "execution_count": 7,
     "metadata": {},
     "output_type": "execute_result"
    }
   ],
   "source": [
    "not (( 5 > 4) or (3 == 5))"
   ]
  },
  {
   "cell_type": "code",
   "execution_count": 8,
   "id": "c7e793be",
   "metadata": {},
   "outputs": [
    {
     "data": {
      "text/plain": [
       "False"
      ]
     },
     "execution_count": 8,
     "metadata": {},
     "output_type": "execute_result"
    }
   ],
   "source": [
    "(True and True) and ( True == False)"
   ]
  },
  {
   "cell_type": "code",
   "execution_count": 9,
   "id": "1215302b",
   "metadata": {},
   "outputs": [
    {
     "data": {
      "text/plain": [
       "True"
      ]
     },
     "execution_count": 9,
     "metadata": {},
     "output_type": "execute_result"
    }
   ],
   "source": [
    "(not False) or (not True)"
   ]
  },
  {
   "cell_type": "markdown",
   "id": "2e25df20",
   "metadata": {},
   "source": [
    "# 5. What are the six comparison operators?# 5. What are the six comparison operators?"
   ]
  },
  {
   "cell_type": "raw",
   "id": "2e22b8a1",
   "metadata": {},
   "source": [
    "Ans: Following are 6 comparision operator in Python\n",
    "== -> Equal \n",
    "!= -> Not equal\n",
    "> -> Greater than\n",
    "< -> Less than\n",
    ">= -> Greater than or equal to\n",
    "<= -> Less than or equal to"
   ]
  },
  {
   "cell_type": "markdown",
   "id": "9b65970c",
   "metadata": {},
   "source": [
    "# 6. How do you tell the difference between the equal to and assignment operators?Describe a condition and when you would use one."
   ]
  },
  {
   "cell_type": "raw",
   "id": "85e5288e",
   "metadata": {},
   "source": [
    "# Ans:  Assignment operator \"=\"\n",
    "It is an assignment operator.\n",
    "It is used for assigning the value to a variable.\n",
    "example a = 10, str = \"Ankur\"\n",
    "Constant term cannot be placed on left hand side.\n",
    "Example: 1=x; is invalid.\n",
    "\n",
    "Equal to Operator \"==\"\n",
    "It is a relational or comparison operator\n",
    "It is used for comparing two values. It returns 1 if both the values are equal otherwise returns 0.\n",
    "Constant term can be placed in the left hand side.\n",
    "Example: 1==1 is valid and returns 1.\n",
    "\n",
    "example :\n",
    "\n",
    "x=10\n",
    "y=10\n",
    "\n",
    "if x==y:\n",
    "    print(\"True\")\n",
    "else:\n",
    "    print(\"False\")"
   ]
  },
  {
   "cell_type": "code",
   "execution_count": 11,
   "id": "5d42999b",
   "metadata": {},
   "outputs": [
    {
     "name": "stdout",
     "output_type": "stream",
     "text": [
      "True\n"
     ]
    }
   ],
   "source": [
    "x = 10\n",
    "y = 10\n",
    "\n",
    "if (x==y):\n",
    "    print(\"True\")\n",
    "else:\n",
    "    print(\"False\")"
   ]
  },
  {
   "cell_type": "markdown",
   "id": "cfd13a65",
   "metadata": {},
   "source": [
    "# 7. Identify the three blocks in this code:\n",
    "spam = 0  # \n",
    "\n",
    "if spam == 10:\n",
    "    print(\"eggs\")  \n",
    "\n",
    "if spam > 5:\n",
    "    print(\"bacon\")\n",
    "else:\n",
    "    print(\"ham\")\n",
    "    print(\"spam\")\n",
    "    print(\"spam\")"
   ]
  },
  {
   "cell_type": "code",
   "execution_count": 12,
   "id": "9cac4ae3",
   "metadata": {},
   "outputs": [
    {
     "name": "stdout",
     "output_type": "stream",
     "text": [
      "ham\n",
      "spam\n",
      "spam\n"
     ]
    }
   ],
   "source": [
    "spam = 0  # First block\n",
    "    \n",
    "if spam == 10: # Second block\n",
    "    print(\"eggs\")  \n",
    "\n",
    "if spam > 5: # Third Block\n",
    "    print(\"bacon\")\n",
    "else:\n",
    "    print(\"ham\")\n",
    "    print(\"spam\")\n",
    "    print(\"spam\")"
   ]
  },
  {
   "cell_type": "markdown",
   "id": "cc4902a2",
   "metadata": {},
   "source": [
    "# 8. Write code that prints Hello if 1 is stored in spam, prints Howdy if 2 is stored in spam, and prints Greetings! if anything else is stored in spam."
   ]
  },
  {
   "cell_type": "code",
   "execution_count": 14,
   "id": "c0153e6a",
   "metadata": {},
   "outputs": [
    {
     "name": "stdout",
     "output_type": "stream",
     "text": [
      "Enter spam value :2\n",
      "Howdy\n"
     ]
    }
   ],
   "source": [
    "spam = int(input(\"Enter spam value :\"))\n",
    "if spam == 1 :\n",
    "    print(\"Hello\")\n",
    "elif spam == 2:\n",
    "    print(\"Howdy\")\n",
    "else:\n",
    "    print(\"Greetings!!!\")"
   ]
  },
  {
   "cell_type": "markdown",
   "id": "0b37c615",
   "metadata": {},
   "source": [
    "# 9.If your programme is stuck in an endless loop, what keys you’ll press?"
   ]
  },
  {
   "cell_type": "raw",
   "id": "c4828dab",
   "metadata": {},
   "source": [
    "Answer : Press CTRL + c to exit from a infinite loop"
   ]
  },
  {
   "cell_type": "markdown",
   "id": "e15070d0",
   "metadata": {},
   "source": [
    "# 10. How can you tell the difference between break and continue?"
   ]
  },
  {
   "cell_type": "raw",
   "id": "94a25322",
   "metadata": {},
   "source": [
    "Ans:\n",
    "    Break Statement : \n",
    "Break statements exist in Python to exit or “break” a for or while conditional loop. When the loop ends, the code picks up\n",
    "from and executes the next line immediately following the loop that was broken.\n",
    "\n",
    "Continue Statement:\n",
    "The continue statement is used to skip code within a loop for certain iterations of the loop. After the code is skipped,\n",
    "the loop continues where it left off."
   ]
  },
  {
   "cell_type": "code",
   "execution_count": 16,
   "id": "b2fe056b",
   "metadata": {},
   "outputs": [
    {
     "name": "stdout",
     "output_type": "stream",
     "text": [
      "2\n"
     ]
    }
   ],
   "source": [
    "#Break Example\n",
    "lst = [1,2,3]\n",
    "cnt = 0\n",
    "for i in lst:\n",
    "    cnt+=lst[i]\n",
    "    print(cnt)\n",
    "    if cnt == 2:\n",
    "        break"
   ]
  },
  {
   "cell_type": "code",
   "execution_count": 17,
   "id": "b6cf4aea",
   "metadata": {},
   "outputs": [
    {
     "name": "stdout",
     "output_type": "stream",
     "text": [
      "0\n",
      "1\n",
      "3\n"
     ]
    }
   ],
   "source": [
    "# contune example\n",
    "for x in range(4):\n",
    "    if (x==2):\n",
    "        continue\n",
    "    print(x)"
   ]
  },
  {
   "cell_type": "markdown",
   "id": "1796983f",
   "metadata": {},
   "source": [
    "# 11. In a for loop, what is the difference between range(10), range(0, 10), and range(0, 10, 1)?"
   ]
  },
  {
   "cell_type": "code",
   "execution_count": 18,
   "id": "9a77c04f",
   "metadata": {},
   "outputs": [
    {
     "name": "stdout",
     "output_type": "stream",
     "text": [
      "0\n",
      "1\n",
      "2\n",
      "3\n",
      "4\n",
      "5\n",
      "6\n",
      "7\n",
      "8\n",
      "9\n"
     ]
    }
   ],
   "source": [
    "for i in range(10):\n",
    "    print(i)"
   ]
  },
  {
   "cell_type": "code",
   "execution_count": 19,
   "id": "5aab971d",
   "metadata": {},
   "outputs": [
    {
     "name": "stdout",
     "output_type": "stream",
     "text": [
      "0\n",
      "1\n",
      "2\n",
      "3\n",
      "4\n",
      "5\n",
      "6\n",
      "7\n",
      "8\n",
      "9\n"
     ]
    }
   ],
   "source": [
    "for i in range(0,10):\n",
    "    print(i)"
   ]
  },
  {
   "cell_type": "code",
   "execution_count": 20,
   "id": "a2815341",
   "metadata": {},
   "outputs": [
    {
     "name": "stdout",
     "output_type": "stream",
     "text": [
      "0\n",
      "1\n",
      "2\n",
      "3\n",
      "4\n",
      "5\n",
      "6\n",
      "7\n",
      "8\n",
      "9\n"
     ]
    }
   ],
   "source": [
    "for i in range(0,10,1):\n",
    "    print(i)"
   ]
  },
  {
   "cell_type": "markdown",
   "id": "da50b2c3",
   "metadata": {},
   "source": [
    "# 12. Write a short program that prints the numbers 1 to 10 using a for loop. Then write an equivalent program that prints the numbers 1 to 10 using a while loop."
   ]
  },
  {
   "cell_type": "code",
   "execution_count": 21,
   "id": "cd98ce25",
   "metadata": {},
   "outputs": [
    {
     "name": "stdout",
     "output_type": "stream",
     "text": [
      "1\n",
      "2\n",
      "3\n",
      "4\n",
      "5\n",
      "6\n",
      "7\n",
      "8\n",
      "9\n",
      "10\n"
     ]
    }
   ],
   "source": [
    "# Using for loop\n",
    "for i in range(1,11):\n",
    "    print(i)"
   ]
  },
  {
   "cell_type": "code",
   "execution_count": 22,
   "id": "429a9520",
   "metadata": {},
   "outputs": [
    {
     "name": "stdout",
     "output_type": "stream",
     "text": [
      "1\n",
      "2\n",
      "3\n",
      "4\n",
      "5\n",
      "6\n",
      "7\n",
      "8\n",
      "9\n",
      "10\n"
     ]
    }
   ],
   "source": [
    "# Using while loop\n",
    "cnt = 1\n",
    "while cnt <=10:\n",
    "    print(cnt)\n",
    "    cnt+=1"
   ]
  },
  {
   "cell_type": "markdown",
   "id": "a4bdb207",
   "metadata": {},
   "source": [
    "# 13. If you had a function named bacon() inside a module named spam, how would you call it after importing spam?"
   ]
  },
  {
   "cell_type": "raw",
   "id": "cb24ebc8",
   "metadata": {},
   "source": [
    "import spam\n",
    "a = spam.bacon()"
   ]
  },
  {
   "cell_type": "code",
   "execution_count": null,
   "id": "c1900eb5",
   "metadata": {},
   "outputs": [],
   "source": []
  }
 ],
 "metadata": {
  "kernelspec": {
   "display_name": "Python 3 (ipykernel)",
   "language": "python",
   "name": "python3"
  },
  "language_info": {
   "codemirror_mode": {
    "name": "ipython",
    "version": 3
   },
   "file_extension": ".py",
   "mimetype": "text/x-python",
   "name": "python",
   "nbconvert_exporter": "python",
   "pygments_lexer": "ipython3",
   "version": "3.9.7"
  }
 },
 "nbformat": 4,
 "nbformat_minor": 5
}
